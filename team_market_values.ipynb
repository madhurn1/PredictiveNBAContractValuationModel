{
 "cells": [
  {
   "cell_type": "code",
   "execution_count": 1,
   "metadata": {},
   "outputs": [
    {
     "name": "stdout",
     "output_type": "stream",
     "text": [
      "Data saved to NBA_Team_Valuations_2024.csv\n"
     ]
    }
   ],
   "source": [
    "import pandas as pd\n",
    "\n",
    "# Data for NBA teams and their valuations\n",
    "data = {\n",
    "    \"Rank\": list(range(1, 31)),\n",
    "    \"Team\": [\n",
    "        \"Golden State Warriors\", \"New York Knicks\", \"Los Angeles Lakers\",\n",
    "        \"Boston Celtics\", \"Los Angeles Clippers\", \"Chicago Bulls\",\n",
    "        \"Houston Rockets\", \"Brooklyn Nets\", \"Dallas Mavericks\",\n",
    "        \"Philadelphia 76ers\", \"Toronto Raptors\", \"Phoenix Suns\",\n",
    "        \"Miami Heat\", \"Washington Wizards\", \"Milwaukee Bucks\",\n",
    "        \"Cleveland Cavaliers\", \"Denver Nuggets\", \"San Antonio Spurs\",\n",
    "        \"Atlanta Hawks\", \"Sacramento Kings\", \"Oklahoma City Thunder\",\n",
    "        \"Indiana Pacers\", \"Utah Jazz\", \"Portland Trail Blazers\",\n",
    "        \"Detroit Pistons\", \"Charlotte Hornets\", \"Orlando Magic\",\n",
    "        \"Minnesota Timberwolves\", \"New Orleans Pelicans\", \"Memphis Grizzlies\"\n",
    "    ],\n",
    "    \"Valuation (in billions)\": [\n",
    "        8.8, 7.5, 7.1, 6.0, 5.5, 5.0, 4.9, 4.8, 4.7, 4.6,\n",
    "        4.4, 4.3, 4.25, 4.1, 4.0, 3.95, 3.9, 3.85, 3.8,\n",
    "        3.7, 3.65, 3.6, 3.55, 3.5, 3.4, 3.3, 3.2, 3.1, 3.05, 3.0\n",
    "    ]\n",
    "}\n",
    "\n",
    "# Create a DataFrame\n",
    "df = pd.DataFrame(data)\n",
    "\n",
    "# Save to CSV\n",
    "csv_filename = \"NBA_Team_Valuations_2024.csv\"\n",
    "df.to_csv(csv_filename, index=False)\n",
    "\n",
    "print(f\"Data saved to {csv_filename}\")\n"
   ]
  }
 ],
 "metadata": {
  "kernelspec": {
   "display_name": "base",
   "language": "python",
   "name": "python3"
  },
  "language_info": {
   "codemirror_mode": {
    "name": "ipython",
    "version": 3
   },
   "file_extension": ".py",
   "mimetype": "text/x-python",
   "name": "python",
   "nbconvert_exporter": "python",
   "pygments_lexer": "ipython3",
   "version": "3.11.5"
  }
 },
 "nbformat": 4,
 "nbformat_minor": 2
}
