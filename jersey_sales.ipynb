{
 "cells": [
  {
   "cell_type": "code",
   "execution_count": 9,
   "metadata": {},
   "outputs": [
    {
     "name": "stdout",
     "output_type": "stream",
     "text": [
      "Data has been saved to Top_NBA_Jersey_Sales.csv\n"
     ]
    }
   ],
   "source": [
    "import pandas as pd\n",
    "\n",
    "# Define the path to your CSV file\n",
    "common_csv_path = \"Top_NBA_Jersey_Sales.csv\"\n",
    "\n",
    "# Try to load the existing CSV, or create a new DataFrame if it doesn't exist\n",
    "try:\n",
    "    common_df = pd.read_csv(common_csv_path, index_col=0)\n",
    "except (FileNotFoundError, pd.errors.EmptyDataError):\n",
    "    common_df = pd.DataFrame()\n",
    "\n",
    "# Add 2019 data to the common DataFrame\n",
    "common_df[\"2019-2020\"] = [\n",
    "    \"LeBron James\", \"Luka Doncic\", \"Anthony Davis\", \n",
    "    \"Jayson Tatum\", \"Giannis Antetokounmpo\", \"Stephen Curry\", \n",
    "    \"Kevin Durant\", \"Damian Lillard\", \"Kawhi Leonard\", \n",
    "    \"Jimmy Butler\", \"Kemba Walker\", \"Kyrie Irving\", \n",
    "    \"Russell Westbrook\", \"Nikola Jokic\", \"Ja Morant\"\n",
    "]\n",
    "common_df[\"2020-2021\"] = [\n",
    "    \"LeBron James\", \"Giannis Antetokounmpo\", \"Kevin Durant\",\n",
    "    \"Luka Dončić\", \"Jayson Tatum\", \"Devin Booker\",\n",
    "    \"Stephen Curry\", \"Kyrie Irving\", \"James Harden\",\n",
    "    \"Damian Lillard\", \"Trae Young\", \"Joel Embiid\",\n",
    "    \"Anthony Davis\", \"Ja Morant\", \"Kawhi Leonard\"\n",
    "]\n",
    "common_df[\"2021-2022\"] =  [\n",
    "    \"LeBron James\", \"James Harden\", \"Stephen Curry\",\n",
    "    \"Kevin Durant\", \"Jayson Tatum\", \"Joel Embiid\",\n",
    "    \"Giannis Antetokounmpo\", \"Luka Doncic\", \"Ja Morant\",\n",
    "    \"Kyrie Irving\", \"Trae Young\", \"Klay Thompson\",\n",
    "    \"Devin Booker\", \"LaMelo Ball\", \"Nikola Jokic\"\n",
    "]\n",
    "common_df[\"2022-2023\"] =[\n",
    "    \"LeBron James\", \"Stephen Curry\", \"Jayson Tatum\",\n",
    "    \"Giannis Antetokounmpo\", \"Luka Doncic\", \"Kevin Durant\",\n",
    "    \"Devin Booker\", \"Ja Morant\", \"Damian Lillard\",\n",
    "    \"Kyrie Irving\", \"LaMelo Ball\", \"Nikola Jokic\",\n",
    "    \"Joel Embiid\", \"Jaylen Brown\", \"Jordan Poole\"\n",
    "]\n",
    "common_df[\"2023-2024\"] = [\n",
    "    \"Stephen Curry\", \"Jayson Tatum\", \"LeBron James\",\n",
    "    \"Victor Wembanyama\", \"Giannis Antetokounmpo\", \"Luka Doncic\",\n",
    "    \"Devin Booker\", \"Kevin Durant\", \"Tyrese Maxey\",\n",
    "    \"Damian Lillard\", \"Ja Morant\", \"Joel Embiid\",\n",
    "    \"LaMelo Ball\", \"Nikola Jokic\", \"De'Aaron Fox\"\n",
    "]\n",
    "\n",
    "\n",
    "\n",
    "# Ensure the index matches the rankings (1-15)\n",
    "common_df.index = range(1, len(common_df) + 1)\n",
    "\n",
    "# Save the updated DataFrame back to the CSV file\n",
    "common_df.to_csv(common_csv_path)\n",
    "\n",
    "print(f\"Data has been saved to {common_csv_path}\")\n"
   ]
  }
 ],
 "metadata": {
  "kernelspec": {
   "display_name": "base",
   "language": "python",
   "name": "python3"
  },
  "language_info": {
   "codemirror_mode": {
    "name": "ipython",
    "version": 3
   },
   "file_extension": ".py",
   "mimetype": "text/x-python",
   "name": "python",
   "nbconvert_exporter": "python",
   "pygments_lexer": "ipython3",
   "version": "3.11.5"
  }
 },
 "nbformat": 4,
 "nbformat_minor": 2
}
