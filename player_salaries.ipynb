{
 "cells": [
  {
   "cell_type": "code",
   "execution_count": 32,
   "metadata": {},
   "outputs": [],
   "source": [
    "import pandas as pd\n",
    "\n",
    "# Initialize an empty DataFrame\n",
    "df = pd.DataFrame()\n",
    "\n",
    "# Loop over the seasons\n",
    "for year in range(2020, 2025):\n",
    "    url = f'https://hoopshype.com/salaries/players/{year-1}-{year}/'\n",
    "    table = pd.read_html(url)[0]\n",
    "    table.drop(columns=['Unnamed: 0'], inplace=True)\n",
    "    table.columns = ['playerName', 'salary', 'inflationAdjSalary']\n",
    "\n",
    "    # Create new column names with the season included\n",
    "    season = f'{year-1}/{str(year)[-2:]}'\n",
    "    salary_col = f'{season}'\n",
    "    inflation_col = f'{season}(*)'\n",
    "    table.rename(columns={'salary': salary_col, 'inflationAdjSalary': inflation_col}, inplace=True)\n",
    "\n",
    "    # Merge the current season's data with the main DataFrame\n",
    "    if df.empty:\n",
    "        df = table\n",
    "    else:\n",
    "        df = pd.merge(df, table, on='playerName', how='outer')\n",
    "\n",
    "# Reorder columns to place 'playerName' first\n",
    "cols = df.columns.tolist()\n",
    "cols.insert(0, cols.pop(cols.index('playerName')))\n",
    "df = df[cols]\n",
    "\n"
   ]
  },
  {
   "cell_type": "code",
   "execution_count": 33,
   "metadata": {},
   "outputs": [],
   "source": [
    "df.to_csv('NBA Salaries(2019-2024).csv', index = True)"
   ]
  }
 ],
 "metadata": {
  "kernelspec": {
   "display_name": "base",
   "language": "python",
   "name": "python3"
  },
  "language_info": {
   "codemirror_mode": {
    "name": "ipython",
    "version": 3
   },
   "file_extension": ".py",
   "mimetype": "text/x-python",
   "name": "python",
   "nbconvert_exporter": "python",
   "pygments_lexer": "ipython3",
   "version": "3.11.5"
  }
 },
 "nbformat": 4,
 "nbformat_minor": 2
}
