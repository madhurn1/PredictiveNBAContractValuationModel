{
 "cells": [
  {
   "cell_type": "code",
   "execution_count": 23,
   "metadata": {},
   "outputs": [],
   "source": [
    "## Importing packages needed for scrape\n",
    "from urllib.request import urlopen\n",
    "from bs4 import BeautifulSoup\n",
    "import pandas as pd\n",
    "import time\n",
    "\n",
    "## Function to scrape a single season\n",
    "def single(season):\n",
    "    url = f'https://www.basketball-reference.com/playoffs/NBA_{season}_advanced.html'\n",
    "    table_html = BeautifulSoup(urlopen(url), 'html.parser').findAll('table')\n",
    "    df = pd.read_html(str(table_html))[0]\n",
    "    df = df.drop('Rk', axis=1)  # Corrected line: specify axis\n",
    "    df.Player = df.Player.str.replace('*', '', regex=False)  # Remove asterisk on player's name\n",
    "    df.insert(0, 'Season', season)  # Insert season column\n",
    "    df = df.apply(pd.to_numeric, errors='coerce').fillna(df)  # Convert non-string values to numeric\n",
    "    return df\n",
    "\n",
    "## Function to scrape multiple seasons\n",
    "def multiple(start_year, end_year):\n",
    "    df_list = [single(start_year)]  # Initialize list with the first season\n",
    "    while start_year < end_year:\n",
    "        time.sleep(4)  # Sleep to avoid too many requests\n",
    "        start_year += 1\n",
    "        df_list.append(single(start_year))  # Append each season's DataFrame to the list\n",
    "    df = pd.concat(df_list, ignore_index=True)  # Concatenate all DataFrames\n",
    "    return df\n"
   ]
  },
  {
   "cell_type": "code",
   "execution_count": 24,
   "metadata": {},
   "outputs": [
    {
     "name": "stderr",
     "output_type": "stream",
     "text": [
      "/var/folders/08/spdh4vf12fsgwsc2hk3q9_c80000gn/T/ipykernel_10846/3615088535.py:11: FutureWarning: Passing literal html to 'read_html' is deprecated and will be removed in a future version. To read from a literal string, wrap it in a 'StringIO' object.\n",
      "  df = pd.read_html(str(table_html))[0]\n",
      "/var/folders/08/spdh4vf12fsgwsc2hk3q9_c80000gn/T/ipykernel_10846/3615088535.py:11: FutureWarning: Passing literal html to 'read_html' is deprecated and will be removed in a future version. To read from a literal string, wrap it in a 'StringIO' object.\n",
      "  df = pd.read_html(str(table_html))[0]\n",
      "/var/folders/08/spdh4vf12fsgwsc2hk3q9_c80000gn/T/ipykernel_10846/3615088535.py:11: FutureWarning: Passing literal html to 'read_html' is deprecated and will be removed in a future version. To read from a literal string, wrap it in a 'StringIO' object.\n",
      "  df = pd.read_html(str(table_html))[0]\n",
      "/var/folders/08/spdh4vf12fsgwsc2hk3q9_c80000gn/T/ipykernel_10846/3615088535.py:11: FutureWarning: Passing literal html to 'read_html' is deprecated and will be removed in a future version. To read from a literal string, wrap it in a 'StringIO' object.\n",
      "  df = pd.read_html(str(table_html))[0]\n",
      "/var/folders/08/spdh4vf12fsgwsc2hk3q9_c80000gn/T/ipykernel_10846/3615088535.py:11: FutureWarning: Passing literal html to 'read_html' is deprecated and will be removed in a future version. To read from a literal string, wrap it in a 'StringIO' object.\n",
      "  df = pd.read_html(str(table_html))[0]\n",
      "/var/folders/08/spdh4vf12fsgwsc2hk3q9_c80000gn/T/ipykernel_10846/3615088535.py:11: FutureWarning: Passing literal html to 'read_html' is deprecated and will be removed in a future version. To read from a literal string, wrap it in a 'StringIO' object.\n",
      "  df = pd.read_html(str(table_html))[0]\n"
     ]
    }
   ],
   "source": [
    "df = multiple(2019,2024)"
   ]
  },
  {
   "cell_type": "code",
   "execution_count": 25,
   "metadata": {},
   "outputs": [],
   "source": [
    "df.to_csv('NBA Advanced PLAYOFF Stats(2019 - 2024).csv', index = True)"
   ]
  }
 ],
 "metadata": {
  "kernelspec": {
   "display_name": "base",
   "language": "python",
   "name": "python3"
  },
  "language_info": {
   "codemirror_mode": {
    "name": "ipython",
    "version": 3
   },
   "file_extension": ".py",
   "mimetype": "text/x-python",
   "name": "python",
   "nbconvert_exporter": "python",
   "pygments_lexer": "ipython3",
   "version": "3.11.5"
  }
 },
 "nbformat": 4,
 "nbformat_minor": 2
}
